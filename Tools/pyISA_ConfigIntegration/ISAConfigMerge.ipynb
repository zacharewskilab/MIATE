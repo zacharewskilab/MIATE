{
 "cells": [
  {
   "cell_type": "markdown",
   "metadata": {},
   "source": [
    "XML is an inherently hierarchical data format, and the most natural way to represent it is with a tree. ET has two classes for this purpose - ElementTree represents the whole XML document as a tree, and Element represents a single node in this tree. Interactions with the whole document (reading and writing to/from files) are usually done on the ElementTree level. Interactions with a single XML element and its sub-elements are done on the Element level."
   ]
  },
  {
   "cell_type": "code",
   "execution_count": 1,
   "metadata": {},
   "outputs": [],
   "source": [
    "import xml.etree.ElementTree as ET\n",
    "from xml import etree\n",
    "import html"
   ]
  },
  {
   "cell_type": "code",
   "execution_count": 2,
   "metadata": {},
   "outputs": [
    {
     "data": {
      "text/plain": [
       "['MIATEmini.xml', 'Transgenicmini.xml']"
      ]
     },
     "execution_count": 2,
     "metadata": {},
     "output_type": "execute_result"
    }
   ],
   "source": [
    "import os\n",
    "relevant_path = '.'\n",
    "included_extensions = ['xml']\n",
    "file_names = [fn for fn in os.listdir(relevant_path)\n",
    "              if any(fn.endswith(ext) for ext in included_extensions)]\n",
    "file_names"
   ]
  },
  {
   "cell_type": "code",
   "execution_count": 3,
   "metadata": {},
   "outputs": [],
   "source": [
    "out_path = './outputs/studySample.xml'\n",
    "ns = '{http://www.ebi.ac.uk/bii/isatab_configuration#}'\n",
    "exceptions = ['measurement' , 'technology']\n",
    "Dict = {}\n",
    "\n",
    "new_xml = ET.Element('isatab-config-file', {'xmlns':'http://www.ebi.ac.uk/bii/isatab_configuration#'})\n",
    "config = ET.SubElement(new_xml, 'isatab-configuration', {'table-name':'studySample'})\n",
    "#ET.SubElement(config, 'measurement', root[0][0].attrib)\n",
    "#ET.SubElement(config, 'technology', root[0][1].attrib)\n",
    "\n",
    "for file in file_names:\n",
    "    tree = ET.parse(file)\n",
    "    root = tree.getroot()\n",
    "    child = root[0] \n",
    "    \n",
    "    itr = -1\n",
    "    for field in child:\n",
    "        itr = itr + 1\n",
    "        mTag = field.tag.replace(ns, '')\n",
    "        mAttrib = list(field.attrib.items())[0][0]\n",
    "        \n",
    "        if mTag in exceptions:\n",
    "            if mTag not in Dict.keys():\n",
    "                ET.SubElement(config, mTag, field.attrib)\n",
    "                Dict[mTag] = field.attrib\n",
    "                continue\n",
    "            else:\n",
    "                continue\n",
    "            \n",
    " \n",
    "        if mTag == 'structured-field':\n",
    "            continue\n",
    "        \n",
    "        if mTag != 'unit-field':\n",
    "            key = field.attrib[mAttrib]\n",
    "        else:\n",
    "            key = field[1].text\n",
    "            \n",
    "        if field.attrib[mAttrib] == 'Sample Name':\n",
    "            redo = itr\n",
    "            continue\n",
    "        \n",
    "        if key not in Dict.keys():\n",
    "            Dict[key] = field.attrib\n",
    "            temp = ET.SubElement(config, mTag, field.attrib)\n",
    "            for im in field.iter():\n",
    "                tag = im.tag.replace(ns, '')\n",
    "                if tag != 'field' and im.text != None:\n",
    "                    value = im.text.strip()\n",
    "                    b = ET.SubElement(temp, tag)\n",
    "                    if tag == 'description' or tag == 'default-values':\n",
    "                        b.text = str(\"<![CDATA[\" + value + \"]]>\")\n",
    "                    else:\n",
    "                        b.text = value        \n",
    "\n",
    "field = child[redo]\n",
    "mTag = field.tag.replace(ns, '')\n",
    "mAttrib = list(field.attrib.items())[0][0]        \n",
    "temp = ET.SubElement(config, mTag, field.attrib)\n",
    "for im in field.iter():\n",
    "    tag = im.tag.replace(ns, '')\n",
    "    if tag != 'field' and im.text != None:\n",
    "        value = im.text.strip()\n",
    "        b = ET.SubElement(temp, tag)\n",
    "    if tag == 'description' or tag == 'default-values':\n",
    "        b.text = str(\"<![CDATA[\" + value + \"]]>\")\n",
    "    else:\n",
    "        b.text = value   \n",
    "\n",
    "ET.SubElement(config, 'structure-field', {'name':'characteristics'})\n",
    "ET.SubElement(config, 'structure-field', {'name':'factors'})\n",
    "tree = ET.ElementTree(new_xml)\n",
    "tree.write(out_path)\n",
    "\n",
    "with open(out_path, 'r') as file:\n",
    "    filedata = file.read()\n",
    "    \n",
    "filedata = filedata.replace('&lt;', '<')\n",
    "filedata = filedata.replace('&gt;', '>')\n",
    "\n",
    "with open(out_path, 'w') as file:\n",
    "    file.write(html.unescape(filedata))"
   ]
  },
  {
   "cell_type": "code",
   "execution_count": null,
   "metadata": {},
   "outputs": [],
   "source": []
  }
 ],
 "metadata": {
  "kernelspec": {
   "display_name": "Python 3",
   "language": "python",
   "name": "python3"
  },
  "language_info": {
   "codemirror_mode": {
    "name": "ipython",
    "version": 3
   },
   "file_extension": ".py",
   "mimetype": "text/x-python",
   "name": "python",
   "nbconvert_exporter": "python",
   "pygments_lexer": "ipython3",
   "version": "3.7.6"
  }
 },
 "nbformat": 4,
 "nbformat_minor": 4
}
